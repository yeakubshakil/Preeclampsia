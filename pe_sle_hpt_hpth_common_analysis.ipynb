{
 "cells": [
  {
   "cell_type": "markdown",
   "metadata": {},
   "source": [
    "# **Biomarker Selection for PE, SLE, HPT, and HPTh**\n",
    "\n",
    "This notebook performs feature selection to identify significant biomarkers for Preeclampsia (PE), Systemic Lupus Erythematosus (SLE), Hypertension (HPT), and Hypothyroidism (HPTh) using a merged gene expression dataset. Three feature selection methods—Lasso, Random Forest, and SVM-RFE—are applied to rank and select biomarkers. The intersection of selected features is identified, and a t-test is used to verify the statistical significance of the common biomarkers. The results are saved for further analysis."
   ]
  },
  {
   "cell_type": "markdown",
   "metadata": {},
   "source": [
    "### **1. Import Libraries**\n",
    "\n",
    "The following libraries are imported for data manipulation, visualization, statistical testing, and machine learning-based feature selection."
   ]
  },
  {
   "cell_type": "code",
   "execution_count": 8,
   "metadata": {},
   "outputs": [],
   "source": [
    "# Import libraries\n",
    "import numpy as np\n",
    "import pandas as pd\n",
    "import seaborn as sns\n",
    "from scipy.stats import ttest_ind\n",
    "import matplotlib.pyplot as plt\n",
    "from sklearn.svm import SVC\n",
    "from sklearn.linear_model import Lasso\n",
    "from sklearn.ensemble import RandomForestClassifier\n",
    "from sklearn.preprocessing import StandardScaler\n",
    "from imblearn.over_sampling import SMOTE\n",
    "from sklearn.feature_selection import RFE\n",
    "from sklearn.model_selection import train_test_split"
   ]
  },
  {
   "cell_type": "markdown",
   "metadata": {},
   "source": [
    "### **2. Load Dataset**\n",
    "\n",
    "The merged dataset containing gene expression data for PE, SLE, HPT and HPTh is loaded from a CSV file."
   ]
  },
  {
   "cell_type": "code",
   "execution_count": 9,
   "metadata": {},
   "outputs": [
    {
     "data": {
      "text/html": [
       "<div>\n",
       "<style scoped>\n",
       "    .dataframe tbody tr th:only-of-type {\n",
       "        vertical-align: middle;\n",
       "    }\n",
       "\n",
       "    .dataframe tbody tr th {\n",
       "        vertical-align: top;\n",
       "    }\n",
       "\n",
       "    .dataframe thead th {\n",
       "        text-align: right;\n",
       "    }\n",
       "</style>\n",
       "<table border=\"1\" class=\"dataframe\">\n",
       "  <thead>\n",
       "    <tr style=\"text-align: right;\">\n",
       "      <th></th>\n",
       "      <th>TFRC</th>\n",
       "      <th>AKT1</th>\n",
       "      <th>PTPRC</th>\n",
       "      <th>label</th>\n",
       "    </tr>\n",
       "  </thead>\n",
       "  <tbody>\n",
       "    <tr>\n",
       "      <th>0</th>\n",
       "      <td>24789.0</td>\n",
       "      <td>1309.0</td>\n",
       "      <td>76.0</td>\n",
       "      <td>1</td>\n",
       "    </tr>\n",
       "    <tr>\n",
       "      <th>1</th>\n",
       "      <td>11953.0</td>\n",
       "      <td>1648.0</td>\n",
       "      <td>100.0</td>\n",
       "      <td>1</td>\n",
       "    </tr>\n",
       "    <tr>\n",
       "      <th>2</th>\n",
       "      <td>11993.0</td>\n",
       "      <td>1309.0</td>\n",
       "      <td>64.0</td>\n",
       "      <td>1</td>\n",
       "    </tr>\n",
       "    <tr>\n",
       "      <th>3</th>\n",
       "      <td>7821.0</td>\n",
       "      <td>1816.0</td>\n",
       "      <td>73.0</td>\n",
       "      <td>1</td>\n",
       "    </tr>\n",
       "    <tr>\n",
       "      <th>4</th>\n",
       "      <td>6527.0</td>\n",
       "      <td>2542.0</td>\n",
       "      <td>49.0</td>\n",
       "      <td>1</td>\n",
       "    </tr>\n",
       "  </tbody>\n",
       "</table>\n",
       "</div>"
      ],
      "text/plain": [
       "      TFRC    AKT1  PTPRC  label\n",
       "0  24789.0  1309.0   76.0      1\n",
       "1  11953.0  1648.0  100.0      1\n",
       "2  11993.0  1309.0   64.0      1\n",
       "3   7821.0  1816.0   73.0      1\n",
       "4   6527.0  2542.0   49.0      1"
      ]
     },
     "execution_count": 9,
     "metadata": {},
     "output_type": "execute_result"
    }
   ],
   "source": [
    "# Load the dataset\n",
    "data = pd.read_csv('clean_data/merged_pe_sle_hpt_hpth_data.csv')\n",
    "data.head()"
   ]
  },
  {
   "cell_type": "markdown",
   "metadata": {},
   "source": [
    "### **3. Select Features and Target**\n",
    "\n",
    "The dataset is split into features (X: gene expression values) and the target variable (y: labels indicating disease status)."
   ]
  },
  {
   "cell_type": "code",
   "execution_count": 10,
   "metadata": {},
   "outputs": [
    {
     "name": "stdout",
     "output_type": "stream",
     "text": [
      "Shape of the dataset: (199, 3), (199,)\n"
     ]
    }
   ],
   "source": [
    "# Select features and target variable (X, y)\n",
    "X = data.drop(columns=['label'])\n",
    "y = data['label']\n",
    "\n",
    "# Print the shape of the dataset\n",
    "print(f\"Shape of the dataset: {X.shape}, {y.shape}\")"
   ]
  },
  {
   "cell_type": "markdown",
   "metadata": {},
   "source": [
    "### **4. Standardize Features**\n",
    "\n",
    "Features are standardized using StandardScaler to ensure comparability, as many ML algorithms (e.g., SVM) are sensitive to feature scales."
   ]
  },
  {
   "cell_type": "code",
   "execution_count": 11,
   "metadata": {},
   "outputs": [],
   "source": [
    "# Standardize the features\n",
    "scaler = StandardScaler()\n",
    "X = scaler.fit_transform(X)"
   ]
  },
  {
   "cell_type": "code",
   "execution_count": 12,
   "metadata": {},
   "outputs": [],
   "source": [
    "# Make a dataframe from the scaled features\n",
    "X = pd.DataFrame(X, columns=data.columns[:-1])"
   ]
  },
  {
   "cell_type": "markdown",
   "metadata": {},
   "source": [
    "### **5. Visualize Class Distribution**\n",
    "\n",
    "A count plot visualizes the distribution of classes (e.g., healthy, T2D, CLL) in the dataset."
   ]
  },
  {
   "cell_type": "code",
   "execution_count": 13,
   "metadata": {},
   "outputs": [
    {
     "data": {
      "image/png": "[encoded data removed]",
      "text/plain": [
       "<Figure size 640x480 with 1 Axes>"
      ]
     },
     "metadata": {},
     "output_type": "display_data"
    }
   ],
   "source": [
    "# Visualize the class distribution\n",
    "sns.countplot(x=y)\n",
    "plt.title('Class Distribution')\n",
    "plt.xlabel('Classes')\n",
    "plt.ylabel('Count')\n",
    "plt.grid(True, axis='y')\n",
    "plt.show()"
   ]
  },
  {
   "cell_type": "markdown",
   "metadata": {},
   "source": [
    "### **6. Handle Class Imbalance (Commented Out)**\n",
    "\n",
    "The code for handling class imbalance using SMOTE is present but commented out. It would upsample the minority class and visualize the new class distribution."
   ]
  },
  {
   "cell_type": "code",
   "execution_count": 14,
   "metadata": {},
   "outputs": [
    {
     "name": "stdout",
     "output_type": "stream",
     "text": [
      "Resampled dataset shape: (460, 3), (460,)\n"
     ]
    },
    {
     "data": {
      "image/png": "[encoded data removed]",
      "text/plain": [
       "<Figure size 640x480 with 1 Axes>"
      ]
     },
     "metadata": {},
     "output_type": "display_data"
    }
   ],
   "source": [
    "# Handle class imbalance using SMOTE\n",
    "smote = SMOTE(random_state=42, k_neighbors=2)\n",
    "X, y = smote.fit_resample(X, y)\n",
    "# print the shapesbefore and after SMOTE\n",
    "print(f\"Resampled dataset shape: {X.shape}, {y.shape}\")\n",
    "# Visualize the class distribution after SMOTE\n",
    "sns.countplot(x=y)\n",
    "plt.title('Class Distribution After SMOTE')\n",
    "plt.xlabel('Classes')\n",
    "plt.ylabel('Count')\n",
    "plt.grid(True, axis='y')\n",
    "plt.show()"
   ]
  },
  {
   "cell_type": "markdown",
   "metadata": {},
   "source": [
    "### **7. Lasso Feature Selection**\n",
    "\n",
    "A Lasso model is trained to select features by shrinking less important feature coefficients to zero. The absolute values of the coefficients are used to rank features."
   ]
  },
  {
   "cell_type": "code",
   "execution_count": 15,
   "metadata": {},
   "outputs": [
    {
     "name": "stdout",
     "output_type": "stream",
     "text": [
      "Number of Biomarkers selected by Lasso: 3\n",
      "Selected Biomarkers using Lasso:\n",
      "  Feature  Importance\n",
      "0    AKT1    0.632983\n",
      "1    TFRC    0.559037\n",
      "2   PTPRC    0.532581\n"
     ]
    }
   ],
   "source": [
    "# Train Lasso model and perform feature selection s\n",
    "lasso = Lasso(alpha=0.01)\n",
    "lasso.fit(X, y)\n",
    "importance = np.abs(lasso.coef_)\n",
    "# Create a DataFrame for feature importance\n",
    "feature_importance = pd.DataFrame({'Feature': X.columns, 'Importance': importance})\n",
    "# Sort the features by importance\n",
    "feature_importance = feature_importance.sort_values(by='Importance', ascending=False)\n",
    "feature_importance.reset_index(drop=True, inplace=True)\n",
    "lasso_feature_importance = feature_importance[feature_importance['Importance'] > 0]\n",
    "# Print the selected features\n",
    "print(\"Number of Biomarkers selected by Lasso:\", len(lasso_feature_importance))\n",
    "print(\"Selected Biomarkers using Lasso:\")\n",
    "print(lasso_feature_importance)"
   ]
  },
  {
   "cell_type": "markdown",
   "metadata": {},
   "source": [
    "### **8. Random Forest Feature Selection**\n",
    "\n",
    "A Random Forest model is trained to select features based on their importance scores, derived from their contribution to classification."
   ]
  },
  {
   "cell_type": "code",
   "execution_count": 16,
   "metadata": {},
   "outputs": [
    {
     "name": "stdout",
     "output_type": "stream",
     "text": [
      "Number of Biomarkers selected by Random Forest: 3\n",
      "Selected Biomarkers using Random Forest:\n",
      "  Feature  Importance\n",
      "0    AKT1    0.374129\n",
      "1   PTPRC    0.348080\n",
      "2    TFRC    0.277791\n"
     ]
    }
   ],
   "source": [
    "# Train Random Forest model and perform feature selection\n",
    "rf = RandomForestClassifier(n_estimators=100, random_state=42)\n",
    "rf.fit(X, y)\n",
    "importance = rf.feature_importances_\n",
    "# Create a DataFrame for feature importance\n",
    "feature_importance = pd.DataFrame({'Feature': X.columns, 'Importance': importance})\n",
    "# Sort the features by importance\n",
    "feature_importance = feature_importance.sort_values(by='Importance', ascending=False)\n",
    "feature_importance.reset_index(drop=True, inplace=True)\n",
    "rf_feature_importance = feature_importance[feature_importance['Importance'] > 0]\n",
    "# Print the selected features\n",
    "print(\"Number of Biomarkers selected by Random Forest:\", len(rf_feature_importance))\n",
    "print(\"Selected Biomarkers using Random Forest:\")\n",
    "print(rf_feature_importance)"
   ]
  },
  {
   "cell_type": "markdown",
   "metadata": {},
   "source": [
    "### **9. SVM-RFE Feature Selection**\n",
    "\n",
    "SVM-RFE is used to select the top 10 features by iteratively eliminating the least important features based on SVM weights."
   ]
  },
  {
   "cell_type": "code",
   "execution_count": 17,
   "metadata": {},
   "outputs": [
    {
     "name": "stdout",
     "output_type": "stream",
     "text": [
      "Number of Biomarkers selected by SVM-RFE: 3\n",
      "Selected Biomarkers using SVM-RFE:\n",
      "  Feature  Importance\n",
      "0    TFRC           1\n",
      "1    AKT1           1\n",
      "2   PTPRC           1\n"
     ]
    },
    {
     "name": "stderr",
     "output_type": "stream",
     "text": [
      "/home/sajid/anaconda3/envs/dsenv/lib/python3.12/site-packages/sklearn/feature_selection/_rfe.py:300: UserWarning: Found n_features_to_select=10 > n_features=3. There will be no feature selection and all features will be kept.\n",
      "  warnings.warn(\n"
     ]
    }
   ],
   "source": [
    "# Train SVM-RFE model and perform feature selection\n",
    "svm = SVC(kernel='linear', random_state=42)\n",
    "rfe = RFE(estimator=svm, n_features_to_select=10)\n",
    "rfe.fit(X, y)\n",
    "# Create a DataFrame for feature importance\n",
    "feature_importance = pd.DataFrame({'Feature': X.columns, 'Importance': rfe.ranking_})\n",
    "# Sort the features by importance\n",
    "feature_importance = feature_importance.sort_values(by='Importance', ascending=False)\n",
    "feature_importance.reset_index(drop=True, inplace=True)\n",
    "svmrfe_feature_importance = feature_importance[feature_importance['Importance'] > 0.0]\n",
    "# Print the selected features\n",
    "print(\"Number of Biomarkers selected by SVM-RFE:\", len(svmrfe_feature_importance))\n",
    "print(\"Selected Biomarkers using SVM-RFE:\")\n",
    "print(svmrfe_feature_importance)"
   ]
  },
  {
   "cell_type": "markdown",
   "metadata": {},
   "source": [
    "### **10. Intersection of Selected Features**\n",
    "\n",
    "The common biomarkers selected by all three methods (Lasso, Random Forest, and SVM-RFE) are identified."
   ]
  },
  {
   "cell_type": "code",
   "execution_count": 18,
   "metadata": {},
   "outputs": [
    {
     "name": "stdout",
     "output_type": "stream",
     "text": [
      "Number of Biomarkers in intersection: 3\n",
      "Intersection of Selected Biomarkers:\n",
      "{'TFRC', 'AKT1', 'PTPRC'}\n"
     ]
    }
   ],
   "source": [
    "# Intersection of selected features from all three methods\n",
    "lasso_features = set(lasso_feature_importance['Feature'])\n",
    "rf_features = set(rf_feature_importance['Feature'])\n",
    "svmrfe_features = set(svmrfe_feature_importance['Feature'])\n",
    "intersection_features = lasso_features.intersection(rf_features).intersection(svmrfe_features)\n",
    "# Print the intersection of selected features\n",
    "print(\"Number of Biomarkers in intersection:\", len(list(intersection_features)))\n",
    "print(\"Intersection of Selected Biomarkers:\")\n",
    "print(intersection_features)"
   ]
  },
  {
   "cell_type": "markdown",
   "metadata": {},
   "source": [
    "### **11. Compile Selected Features with Scores**\n",
    "\n",
    "A DataFrame is created to compile the importance scores from all three methods for the common biomarkers.\n",
    "\n"
   ]
  },
  {
   "cell_type": "code",
   "execution_count": 19,
   "metadata": {},
   "outputs": [
    {
     "name": "stdout",
     "output_type": "stream",
     "text": [
      "Selected Biomarkers with Scores:\n",
      "  Feature     Lasso  Random Forest  SVM-RFE\n",
      "0    TFRC  0.559037       0.277791        1\n",
      "1    AKT1  0.632983       0.374129        1\n",
      "2   PTPRC  0.532581       0.348080        1\n"
     ]
    }
   ],
   "source": [
    "# Create a new DataFrame with the selected features with scores from all three methods\n",
    "# Create a list to store rows\n",
    "rows = []\n",
    "for feature in intersection_features:\n",
    "    lasso_score = lasso_feature_importance[lasso_feature_importance['Feature'] == feature]['Importance'].values[0]\n",
    "    rf_score = rf_feature_importance[rf_feature_importance['Feature'] == feature]['Importance'].values[0]\n",
    "    svmrfe_score = svmrfe_feature_importance[svmrfe_feature_importance['Feature'] == feature]['Importance'].values[0]\n",
    "    rows.append({\n",
    "        'Feature': feature,\n",
    "        'Lasso': lasso_score,\n",
    "        'Random Forest': rf_score,\n",
    "        'SVM-RFE': svmrfe_score\n",
    "    })\n",
    "\n",
    "selected_features = pd.DataFrame(rows)\n",
    "# Print the selected features with scores\n",
    "print(\"Selected Biomarkers with Scores:\")\n",
    "print(selected_features)\n",
    "# Save to CSV\n",
    "selected_features.to_csv('results/pe_sle_hpt_hpth_multimode_selected_features.csv', index=False)"
   ]
  },
  {
   "cell_type": "markdown",
   "metadata": {},
   "source": [
    "### **12. Verify Common Biomarkers with T-test**\n",
    "\n",
    "A t-test is performed to verify the statistical significance of the common biomarkers by comparing their expression levels between healthy (label 0) and T2D (label 1) groups."
   ]
  },
  {
   "cell_type": "code",
   "execution_count": 20,
   "metadata": {},
   "outputs": [
    {
     "name": "stdout",
     "output_type": "stream",
     "text": [
      "T-test Results:\n",
      "  Feature  t-statistic   p-value\n",
      "0    AKT1    -4.256624  0.000041\n",
      "1   PTPRC     1.526027  0.129570\n",
      "2    TFRC     0.681182  0.497037\n"
     ]
    }
   ],
   "source": [
    "# Verify the common biomarkers with t-test\n",
    "# Load the dataset again\n",
    "data = pd.read_csv('clean_data/merged_pe_sle_hpt_hpth_data.csv')\n",
    "# Select features and target variable (X, y)\n",
    "X = data.drop(columns=['label'])\n",
    "y = data['label']\n",
    "# Select the common biomarkers\n",
    "common_biomarkers = list(intersection_features)\n",
    "# Create a new DataFrame with the common biomarkers\n",
    "common_biomarkers_df = data[common_biomarkers]\n",
    "# Add the target variable\n",
    "common_biomarkers_df['label'] = y\n",
    "# Perform t-test for each common biomarker\n",
    "t_test_results = []\n",
    "for feature in common_biomarkers:\n",
    "    group1 = common_biomarkers_df[common_biomarkers_df['label'] == 0][feature]\n",
    "    group2 = common_biomarkers_df[common_biomarkers_df['label'] == 1][feature]\n",
    "    t_stat, p_value = ttest_ind(group1, group2)\n",
    "    t_test_results.append({\n",
    "        'Feature': feature,\n",
    "        't-statistic': t_stat,\n",
    "        'p-value': p_value\n",
    "    })\n",
    "# Create a DataFrame for t-test results\n",
    "t_test_results_df = pd.DataFrame(t_test_results)\n",
    "# Print the t-test results\n",
    "print(\"T-test Results:\")\n",
    "print(t_test_results_df.sort_values(by='p-value', ascending=True).reset_index(drop=True))\n",
    "# Save t-test results to CSV\n",
    "t_test_results_df.to_csv('results/pe_sle_hpt_hpth_multimode_t_test_results.csv', index=False)\n"
   ]
  },
  {
   "cell_type": "code",
   "execution_count": 21,
   "metadata": {},
   "outputs": [
    {
     "name": "stdout",
     "output_type": "stream",
     "text": [
      "Significant Genes:\n",
      "  Feature  t-statistic   p-value\n",
      "0    AKT1    -4.256624  0.000041\n"
     ]
    }
   ],
   "source": [
    "# print the genes with p-value < 0.05\n",
    "significant_genes = t_test_results_df[t_test_results_df['p-value'] < 0.05].sort_values(by='p-value', ascending=True).reset_index(drop=True)\n",
    "print(\"Significant Genes:\")\n",
    "print(significant_genes)\n",
    "# Save significant genes to CSV\n",
    "significant_genes.to_csv('results/pe_sle_hpt_hpth_multimode_significant_genes.csv', index=False)"
   ]
  },
  {
   "cell_type": "code",
   "execution_count": null,
   "metadata": {},
   "outputs": [],
   "source": []
  }
 ],
 "metadata": {
  "kernelspec": {
   "display_name": "dsenv",
   "language": "python",
   "name": "python3"
  },
  "language_info": {
   "codemirror_mode": {
    "name": "ipython",
    "version": 3
   },
   "file_extension": ".py",
   "mimetype": "text/x-python",
   "name": "python",
   "nbconvert_exporter": "python",
   "pygments_lexer": "ipython3",
   "version": "3.12.3"
  }
 },
 "nbformat": 4,
 "nbformat_minor": 4
}
