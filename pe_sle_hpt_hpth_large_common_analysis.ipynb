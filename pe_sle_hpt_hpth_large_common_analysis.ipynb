{
 "cells": [
  {
   "cell_type": "markdown",
   "metadata": {},
   "source": [
    "# **Biomarker Selection for PE, SLE, HPT, and HPTh**\n",
    "\n",
    "This notebook performs feature selection to identify significant biomarkers for Preeclampsia (PE), Systemic Lupus Erythematosus (SLE), Hypertension (HPT), and Hypothyroidism (HPTh) using a merged gene expression dataset. Three feature selection methods—Lasso, Random Forest, and SVM-RFE—are applied to rank and select biomarkers. The intersection of selected features is identified, and a t-test is used to verify the statistical significance of the common biomarkers. The results are saved for further analysis."
   ]
  },
  {
   "cell_type": "markdown",
   "metadata": {},
   "source": [
    "### **1. Import Libraries**\n",
    "\n",
    "The following libraries are imported for data manipulation, visualization, statistical testing, and machine learning-based feature selection."
   ]
  },
  {
   "cell_type": "code",
   "execution_count": 28,
   "metadata": {},
   "outputs": [],
   "source": [
    "# Import libraries\n",
    "import numpy as np\n",
    "import pandas as pd\n",
    "import seaborn as sns\n",
    "from scipy.stats import ttest_ind\n",
    "import matplotlib.pyplot as plt\n",
    "from sklearn.svm import SVC\n",
    "from sklearn.linear_model import Lasso\n",
    "from sklearn.ensemble import RandomForestClassifier\n",
    "from sklearn.preprocessing import StandardScaler\n",
    "from imblearn.over_sampling import SMOTE\n",
    "from sklearn.feature_selection import RFE\n",
    "from sklearn.model_selection import train_test_split"
   ]
  },
  {
   "cell_type": "markdown",
   "metadata": {},
   "source": [
    "### **2. Load Dataset**\n",
    "\n",
    "The merged dataset containing gene expression data for PE, SLE, HPT and HPTh is loaded from a CSV file."
   ]
  },
  {
   "cell_type": "code",
   "execution_count": 29,
   "metadata": {},
   "outputs": [
    {
     "data": {
      "text/html": [
       "<div>\n",
       "<style scoped>\n",
       "    .dataframe tbody tr th:only-of-type {\n",
       "        vertical-align: middle;\n",
       "    }\n",
       "\n",
       "    .dataframe tbody tr th {\n",
       "        vertical-align: top;\n",
       "    }\n",
       "\n",
       "    .dataframe thead th {\n",
       "        text-align: right;\n",
       "    }\n",
       "</style>\n",
       "<table border=\"1\" class=\"dataframe\">\n",
       "  <thead>\n",
       "    <tr style=\"text-align: right;\">\n",
       "      <th></th>\n",
       "      <th>PRMT5</th>\n",
       "      <th>RAB32</th>\n",
       "      <th>LPL</th>\n",
       "      <th>PDK4</th>\n",
       "      <th>STAG2</th>\n",
       "      <th>TFRC</th>\n",
       "      <th>PID1</th>\n",
       "      <th>JCHAIN</th>\n",
       "      <th>CBX1</th>\n",
       "      <th>IL21R</th>\n",
       "      <th>...</th>\n",
       "      <th>P2RY14</th>\n",
       "      <th>SCML4</th>\n",
       "      <th>ATP6V1C1</th>\n",
       "      <th>ITSN1</th>\n",
       "      <th>ITGB2</th>\n",
       "      <th>SGMS2</th>\n",
       "      <th>CUTC</th>\n",
       "      <th>HBB</th>\n",
       "      <th>HES1</th>\n",
       "      <th>label</th>\n",
       "    </tr>\n",
       "  </thead>\n",
       "  <tbody>\n",
       "    <tr>\n",
       "      <th>0</th>\n",
       "      <td>599.0</td>\n",
       "      <td>23.0</td>\n",
       "      <td>2225.0</td>\n",
       "      <td>1228.0</td>\n",
       "      <td>1625.0</td>\n",
       "      <td>24789.0</td>\n",
       "      <td>366.0</td>\n",
       "      <td>0.0</td>\n",
       "      <td>449.0</td>\n",
       "      <td>0.0</td>\n",
       "      <td>...</td>\n",
       "      <td>95.0</td>\n",
       "      <td>0.0</td>\n",
       "      <td>1130.0</td>\n",
       "      <td>1075.0</td>\n",
       "      <td>269.0</td>\n",
       "      <td>795.0</td>\n",
       "      <td>83.0</td>\n",
       "      <td>961.0</td>\n",
       "      <td>581.0</td>\n",
       "      <td>1</td>\n",
       "    </tr>\n",
       "    <tr>\n",
       "      <th>1</th>\n",
       "      <td>599.0</td>\n",
       "      <td>25.0</td>\n",
       "      <td>1718.0</td>\n",
       "      <td>1085.0</td>\n",
       "      <td>1315.0</td>\n",
       "      <td>11953.0</td>\n",
       "      <td>273.0</td>\n",
       "      <td>0.0</td>\n",
       "      <td>413.0</td>\n",
       "      <td>12.0</td>\n",
       "      <td>...</td>\n",
       "      <td>148.0</td>\n",
       "      <td>0.0</td>\n",
       "      <td>821.0</td>\n",
       "      <td>705.0</td>\n",
       "      <td>242.0</td>\n",
       "      <td>223.0</td>\n",
       "      <td>85.0</td>\n",
       "      <td>1775.0</td>\n",
       "      <td>776.0</td>\n",
       "      <td>1</td>\n",
       "    </tr>\n",
       "    <tr>\n",
       "      <th>2</th>\n",
       "      <td>649.0</td>\n",
       "      <td>20.0</td>\n",
       "      <td>3593.0</td>\n",
       "      <td>940.0</td>\n",
       "      <td>1154.0</td>\n",
       "      <td>11993.0</td>\n",
       "      <td>207.0</td>\n",
       "      <td>2.0</td>\n",
       "      <td>397.0</td>\n",
       "      <td>6.0</td>\n",
       "      <td>...</td>\n",
       "      <td>99.0</td>\n",
       "      <td>1.0</td>\n",
       "      <td>541.0</td>\n",
       "      <td>933.0</td>\n",
       "      <td>269.0</td>\n",
       "      <td>423.0</td>\n",
       "      <td>117.0</td>\n",
       "      <td>1204.0</td>\n",
       "      <td>898.0</td>\n",
       "      <td>1</td>\n",
       "    </tr>\n",
       "    <tr>\n",
       "      <th>3</th>\n",
       "      <td>565.0</td>\n",
       "      <td>15.0</td>\n",
       "      <td>272.0</td>\n",
       "      <td>1131.0</td>\n",
       "      <td>1448.0</td>\n",
       "      <td>7821.0</td>\n",
       "      <td>333.0</td>\n",
       "      <td>0.0</td>\n",
       "      <td>356.0</td>\n",
       "      <td>4.0</td>\n",
       "      <td>...</td>\n",
       "      <td>104.0</td>\n",
       "      <td>0.0</td>\n",
       "      <td>1099.0</td>\n",
       "      <td>881.0</td>\n",
       "      <td>262.0</td>\n",
       "      <td>589.0</td>\n",
       "      <td>101.0</td>\n",
       "      <td>1557.0</td>\n",
       "      <td>929.0</td>\n",
       "      <td>1</td>\n",
       "    </tr>\n",
       "    <tr>\n",
       "      <th>4</th>\n",
       "      <td>780.0</td>\n",
       "      <td>19.0</td>\n",
       "      <td>674.0</td>\n",
       "      <td>1548.0</td>\n",
       "      <td>995.0</td>\n",
       "      <td>6527.0</td>\n",
       "      <td>636.0</td>\n",
       "      <td>0.0</td>\n",
       "      <td>248.0</td>\n",
       "      <td>2.0</td>\n",
       "      <td>...</td>\n",
       "      <td>48.0</td>\n",
       "      <td>0.0</td>\n",
       "      <td>760.0</td>\n",
       "      <td>513.0</td>\n",
       "      <td>333.0</td>\n",
       "      <td>300.0</td>\n",
       "      <td>113.0</td>\n",
       "      <td>1859.0</td>\n",
       "      <td>586.0</td>\n",
       "      <td>1</td>\n",
       "    </tr>\n",
       "  </tbody>\n",
       "</table>\n",
       "<p>5 rows × 87 columns</p>\n",
       "</div>"
      ],
      "text/plain": [
       "   PRMT5  RAB32     LPL    PDK4   STAG2     TFRC   PID1  JCHAIN   CBX1  IL21R  \\\n",
       "0  599.0   23.0  2225.0  1228.0  1625.0  24789.0  366.0     0.0  449.0    0.0   \n",
       "1  599.0   25.0  1718.0  1085.0  1315.0  11953.0  273.0     0.0  413.0   12.0   \n",
       "2  649.0   20.0  3593.0   940.0  1154.0  11993.0  207.0     2.0  397.0    6.0   \n",
       "3  565.0   15.0   272.0  1131.0  1448.0   7821.0  333.0     0.0  356.0    4.0   \n",
       "4  780.0   19.0   674.0  1548.0   995.0   6527.0  636.0     0.0  248.0    2.0   \n",
       "\n",
       "   ...  P2RY14  SCML4  ATP6V1C1   ITSN1  ITGB2  SGMS2   CUTC     HBB   HES1  \\\n",
       "0  ...    95.0    0.0    1130.0  1075.0  269.0  795.0   83.0   961.0  581.0   \n",
       "1  ...   148.0    0.0     821.0   705.0  242.0  223.0   85.0  1775.0  776.0   \n",
       "2  ...    99.0    1.0     541.0   933.0  269.0  423.0  117.0  1204.0  898.0   \n",
       "3  ...   104.0    0.0    1099.0   881.0  262.0  589.0  101.0  1557.0  929.0   \n",
       "4  ...    48.0    0.0     760.0   513.0  333.0  300.0  113.0  1859.0  586.0   \n",
       "\n",
       "   label  \n",
       "0      1  \n",
       "1      1  \n",
       "2      1  \n",
       "3      1  \n",
       "4      1  \n",
       "\n",
       "[5 rows x 87 columns]"
      ]
     },
     "execution_count": 29,
     "metadata": {},
     "output_type": "execute_result"
    }
   ],
   "source": [
    "# Load the dataset\n",
    "data = pd.read_csv('clean_data/merged_pe_sle_hpt_hpth_large_data.csv')\n",
    "data.head()"
   ]
  },
  {
   "cell_type": "markdown",
   "metadata": {},
   "source": [
    "### **3. Select Features and Target**\n",
    "\n",
    "The dataset is split into features (X: gene expression values) and the target variable (y: labels indicating disease status)."
   ]
  },
  {
   "cell_type": "code",
   "execution_count": 30,
   "metadata": {},
   "outputs": [
    {
     "name": "stdout",
     "output_type": "stream",
     "text": [
      "Shape of the dataset: (199, 86), (199,)\n"
     ]
    }
   ],
   "source": [
    "# Select features and target variable (X, y)\n",
    "X = data.drop(columns=['label'])\n",
    "y = data['label']\n",
    "\n",
    "# Print the shape of the dataset\n",
    "print(f\"Shape of the dataset: {X.shape}, {y.shape}\")"
   ]
  },
  {
   "cell_type": "markdown",
   "metadata": {},
   "source": [
    "### **4. Standardize Features**\n",
    "\n",
    "Features are standardized using StandardScaler to ensure comparability, as many ML algorithms (e.g., SVM) are sensitive to feature scales."
   ]
  },
  {
   "cell_type": "code",
   "execution_count": 31,
   "metadata": {},
   "outputs": [],
   "source": [
    "# Standardize the features\n",
    "scaler = StandardScaler()\n",
    "X = scaler.fit_transform(X)"
   ]
  },
  {
   "cell_type": "code",
   "execution_count": 32,
   "metadata": {},
   "outputs": [],
   "source": [
    "# Make a dataframe from the scaled features\n",
    "X = pd.DataFrame(X, columns=data.columns[:-1])"
   ]
  },
  {
   "cell_type": "markdown",
   "metadata": {},
   "source": [
    "### **5. Visualize Class Distribution**\n",
    "\n",
    "A count plot visualizes the distribution of classes (e.g., healthy, T2D, CLL) in the dataset."
   ]
  },
  {
   "cell_type": "code",
   "execution_count": 33,
   "metadata": {},
   "outputs": [
    {
     "data": {
      "image/png": "[encoded data removed]",
      "text/plain": [
       "<Figure size 640x480 with 1 Axes>"
      ]
     },
     "metadata": {},
     "output_type": "display_data"
    }
   ],
   "source": [
    "# Visualize the class distribution\n",
    "sns.countplot(x=y)\n",
    "plt.title('Class Distribution')\n",
    "plt.xlabel('Classes')\n",
    "plt.ylabel('Count')\n",
    "plt.grid(True, axis='y')\n",
    "plt.show()"
   ]
  },
  {
   "cell_type": "markdown",
   "metadata": {},
   "source": [
    "### **6. Handle Class Imbalance (Commented Out)**\n",
    "\n",
    "The code for handling class imbalance using SMOTE is present but commented out. It would upsample the minority class and visualize the new class distribution."
   ]
  },
  {
   "cell_type": "code",
   "execution_count": 34,
   "metadata": {},
   "outputs": [
    {
     "name": "stdout",
     "output_type": "stream",
     "text": [
      "Resampled dataset shape: (460, 86), (460,)\n"
     ]
    },
    {
     "data": {
      "image/png": "[encoded data removed]",
      "text/plain": [
       "<Figure size 640x480 with 1 Axes>"
      ]
     },
     "metadata": {},
     "output_type": "display_data"
    }
   ],
   "source": [
    "# Handle class imbalance using SMOTE\n",
    "smote = SMOTE(random_state=42, k_neighbors=2)\n",
    "X, y = smote.fit_resample(X, y)\n",
    "# print the shapesbefore and after SMOTE\n",
    "print(f\"Resampled dataset shape: {X.shape}, {y.shape}\")\n",
    "# Visualize the class distribution after SMOTE\n",
    "sns.countplot(x=y)\n",
    "plt.title('Class Distribution After SMOTE')\n",
    "plt.xlabel('Classes')\n",
    "plt.ylabel('Count')\n",
    "plt.grid(True, axis='y')\n",
    "plt.show()"
   ]
  },
  {
   "cell_type": "markdown",
   "metadata": {},
   "source": [
    "### **7. Lasso Feature Selection**\n",
    "\n",
    "A Lasso model is trained to select features by shrinking less important feature coefficients to zero. The absolute values of the coefficients are used to rank features."
   ]
  },
  {
   "cell_type": "code",
   "execution_count": 35,
   "metadata": {},
   "outputs": [
    {
     "name": "stdout",
     "output_type": "stream",
     "text": [
      "Number of Biomarkers selected by Lasso: 46\n",
      "Selected Biomarkers using Lasso:\n",
      "    Feature  Importance\n",
      "0   PLEKHA3    0.723396\n",
      "1     APMAP    0.648611\n",
      "2      CBX1    0.615961\n",
      "3     GNG10    0.530056\n",
      "4      PPT1    0.456089\n",
      "5       SLA    0.401728\n",
      "6      ASPH    0.394269\n",
      "7      YBX3    0.392611\n",
      "8      TPM1    0.388623\n",
      "9     ITGB2    0.354012\n",
      "10   MOSPD2    0.342853\n",
      "11     PDK4    0.316584\n",
      "12   NUCKS1    0.289739\n",
      "13   CLEC7A    0.273327\n",
      "14    SSBP3    0.200939\n",
      "15  OSBPL1A    0.192873\n",
      "16      QKI    0.185878\n",
      "17    LATS2    0.176229\n",
      "18      HBB    0.167471\n",
      "19     CTSB    0.167296\n",
      "20    BACE2    0.166364\n",
      "21   SLAMF8    0.158952\n",
      "22    FGFR1    0.154053\n",
      "23      LYZ    0.151258\n",
      "24  HLA-DOA    0.148995\n",
      "25    SGMS2    0.145019\n",
      "26      NPL    0.140422\n",
      "27     PID1    0.132081\n",
      "28     DIO2    0.130930\n",
      "29    CEBPA    0.110449\n",
      "30    ALPK1    0.092919\n",
      "31    FCHO2    0.082677\n",
      "32    KLHL6    0.071280\n",
      "33   CAPZA1    0.070447\n",
      "34     TFRC    0.070403\n",
      "35   RNF146    0.065519\n",
      "36   PFKFB2    0.062837\n",
      "37    PLIN1    0.043352\n",
      "38   KCNIP2    0.040912\n",
      "39      LPL    0.035444\n",
      "40     SDC2    0.029425\n",
      "41   AKAP12    0.021141\n",
      "42     HES1    0.020470\n",
      "43   SEL1L3    0.014310\n",
      "44    IL2RB    0.013265\n",
      "45    IFIT3    0.004174\n"
     ]
    }
   ],
   "source": [
    "# Train Lasso model and perform feature selection s\n",
    "lasso = Lasso(alpha=0.01)\n",
    "lasso.fit(X, y)\n",
    "importance = np.abs(lasso.coef_)\n",
    "# Create a DataFrame for feature importance\n",
    "feature_importance = pd.DataFrame({'Feature': X.columns, 'Importance': importance})\n",
    "# Sort the features by importance\n",
    "feature_importance = feature_importance.sort_values(by='Importance', ascending=False)\n",
    "feature_importance.reset_index(drop=True, inplace=True)\n",
    "lasso_feature_importance = feature_importance[feature_importance['Importance'] > 0]\n",
    "# Print the selected features\n",
    "print(\"Number of Biomarkers selected by Lasso:\", len(lasso_feature_importance))\n",
    "print(\"Selected Biomarkers using Lasso:\")\n",
    "print(lasso_feature_importance)"
   ]
  },
  {
   "cell_type": "markdown",
   "metadata": {},
   "source": [
    "### **8. Random Forest Feature Selection**\n",
    "\n",
    "A Random Forest model is trained to select features based on their importance scores, derived from their contribution to classification."
   ]
  },
  {
   "cell_type": "code",
   "execution_count": 36,
   "metadata": {},
   "outputs": [
    {
     "name": "stdout",
     "output_type": "stream",
     "text": [
      "Number of Biomarkers selected by Random Forest: 86\n",
      "Selected Biomarkers using Random Forest:\n",
      "    Feature  Importance\n",
      "0     ITSN1    0.049419\n",
      "1   SLC16A7    0.041940\n",
      "2     SGMS2    0.039656\n",
      "3       LPL    0.033849\n",
      "4      ASPH    0.033171\n",
      "..      ...         ...\n",
      "81    ITGB2    0.001451\n",
      "82   RPL37A    0.001367\n",
      "83    LATS2    0.001213\n",
      "84     YBX3    0.001195\n",
      "85      SLA    0.000990\n",
      "\n",
      "[86 rows x 2 columns]\n"
     ]
    }
   ],
   "source": [
    "# Train Random Forest model and perform feature selection\n",
    "rf = RandomForestClassifier(n_estimators=100, random_state=42)\n",
    "rf.fit(X, y)\n",
    "importance = rf.feature_importances_\n",
    "# Create a DataFrame for feature importance\n",
    "feature_importance = pd.DataFrame({'Feature': X.columns, 'Importance': importance})\n",
    "# Sort the features by importance\n",
    "feature_importance = feature_importance.sort_values(by='Importance', ascending=False)\n",
    "feature_importance.reset_index(drop=True, inplace=True)\n",
    "rf_feature_importance = feature_importance[feature_importance['Importance'] > 0]\n",
    "# Print the selected features\n",
    "print(\"Number of Biomarkers selected by Random Forest:\", len(rf_feature_importance))\n",
    "print(\"Selected Biomarkers using Random Forest:\")\n",
    "print(rf_feature_importance)"
   ]
  },
  {
   "cell_type": "markdown",
   "metadata": {},
   "source": [
    "### **9. SVM-RFE Feature Selection**\n",
    "\n",
    "SVM-RFE is used to select the top 10 features by iteratively eliminating the least important features based on SVM weights."
   ]
  },
  {
   "cell_type": "code",
   "execution_count": 37,
   "metadata": {},
   "outputs": [
    {
     "name": "stdout",
     "output_type": "stream",
     "text": [
      "Number of Biomarkers selected by SVM-RFE: 86\n",
      "Selected Biomarkers using SVM-RFE:\n",
      "   Feature  Importance\n",
      "0    SCML4          77\n",
      "1    TPPP3          76\n",
      "2      CR1          75\n",
      "3    CIITA          74\n",
      "4      LCK          73\n",
      "..     ...         ...\n",
      "81   CEBPA           1\n",
      "82     QKI           1\n",
      "83   LATS2           1\n",
      "84   YWHAG           1\n",
      "85   ITSN1           1\n",
      "\n",
      "[86 rows x 2 columns]\n"
     ]
    }
   ],
   "source": [
    "# Train SVM-RFE model and perform feature selection\n",
    "svm = SVC(kernel='linear', random_state=42)\n",
    "rfe = RFE(estimator=svm, n_features_to_select=10)\n",
    "rfe.fit(X, y)\n",
    "# Create a DataFrame for feature importance\n",
    "feature_importance = pd.DataFrame({'Feature': X.columns, 'Importance': rfe.ranking_})\n",
    "# Sort the features by importance\n",
    "feature_importance = feature_importance.sort_values(by='Importance', ascending=False)\n",
    "feature_importance.reset_index(drop=True, inplace=True)\n",
    "svmrfe_feature_importance = feature_importance[feature_importance['Importance'] > 0.0]\n",
    "# Print the selected features\n",
    "print(\"Number of Biomarkers selected by SVM-RFE:\", len(svmrfe_feature_importance))\n",
    "print(\"Selected Biomarkers using SVM-RFE:\")\n",
    "print(svmrfe_feature_importance)"
   ]
  },
  {
   "cell_type": "markdown",
   "metadata": {},
   "source": [
    "### **10. Intersection of Selected Features**\n",
    "\n",
    "The common biomarkers selected by all three methods (Lasso, Random Forest, and SVM-RFE) are identified."
   ]
  },
  {
   "cell_type": "code",
   "execution_count": 38,
   "metadata": {},
   "outputs": [
    {
     "name": "stdout",
     "output_type": "stream",
     "text": [
      "Number of Biomarkers in intersection: 46\n",
      "Intersection of Selected Biomarkers:\n",
      "{'SLA', 'MOSPD2', 'SLAMF8', 'SEL1L3', 'CAPZA1', 'IFIT3', 'TPM1', 'CBX1', 'PLIN1', 'SSBP3', 'CTSB', 'PPT1', 'ALPK1', 'SGMS2', 'GNG10', 'YBX3', 'QKI', 'LATS2', 'KCNIP2', 'AKAP12', 'FGFR1', 'OSBPL1A', 'HES1', 'ASPH', 'PLEKHA3', 'NPL', 'LYZ', 'CLEC7A', 'BACE2', 'ITGB2', 'APMAP', 'HLA-DOA', 'DIO2', 'LPL', 'PDK4', 'KLHL6', 'TFRC', 'SDC2', 'RNF146', 'PID1', 'PFKFB2', 'IL2RB', 'FCHO2', 'NUCKS1', 'HBB', 'CEBPA'}\n"
     ]
    }
   ],
   "source": [
    "# Intersection of selected features from all three methods\n",
    "lasso_features = set(lasso_feature_importance['Feature'])\n",
    "rf_features = set(rf_feature_importance['Feature'])\n",
    "svmrfe_features = set(svmrfe_feature_importance['Feature'])\n",
    "intersection_features = lasso_features.intersection(rf_features).intersection(svmrfe_features)\n",
    "# Print the intersection of selected features\n",
    "print(\"Number of Biomarkers in intersection:\", len(list(intersection_features)))\n",
    "print(\"Intersection of Selected Biomarkers:\")\n",
    "print(intersection_features)"
   ]
  },
  {
   "cell_type": "markdown",
   "metadata": {},
   "source": [
    "### **11. Compile Selected Features with Scores**\n",
    "\n",
    "A DataFrame is created to compile the importance scores from all three methods for the common biomarkers.\n",
    "\n"
   ]
  },
  {
   "cell_type": "code",
   "execution_count": 39,
   "metadata": {},
   "outputs": [
    {
     "name": "stdout",
     "output_type": "stream",
     "text": [
      "Selected Biomarkers with Scores:\n",
      "    Feature     Lasso  Random Forest  SVM-RFE\n",
      "0       SLA  0.401728       0.000990       45\n",
      "1    MOSPD2  0.342853       0.018309        8\n",
      "2    SLAMF8  0.158952       0.001939       23\n",
      "3    SEL1L3  0.014310       0.020410       61\n",
      "4    CAPZA1  0.070447       0.013191       69\n",
      "5     IFIT3  0.004174       0.012310       32\n",
      "6      TPM1  0.388623       0.026471       29\n",
      "7      CBX1  0.615961       0.013143       13\n",
      "8     PLIN1  0.043352       0.005531       41\n",
      "9     SSBP3  0.200939       0.002338       55\n",
      "10     CTSB  0.167296       0.007623       46\n",
      "11     PPT1  0.456089       0.009263       27\n",
      "12    ALPK1  0.092919       0.024490       22\n",
      "13    SGMS2  0.145019       0.039656       26\n",
      "14    GNG10  0.530056       0.004604        3\n",
      "15     YBX3  0.392611       0.001195       11\n",
      "16      QKI  0.185878       0.004111        1\n",
      "17    LATS2  0.176229       0.001213        1\n",
      "18   KCNIP2  0.040912       0.019690       31\n",
      "19   AKAP12  0.021141       0.025245       48\n",
      "20    FGFR1  0.154053       0.006375        5\n",
      "21  OSBPL1A  0.192873       0.006466       24\n",
      "22     HES1  0.020470       0.016266       60\n",
      "23     ASPH  0.394269       0.033171       54\n",
      "24  PLEKHA3  0.723396       0.004106        1\n",
      "25      NPL  0.140422       0.023332       16\n",
      "26      LYZ  0.151258       0.028434       58\n",
      "27   CLEC7A  0.273327       0.012730       51\n",
      "28    BACE2  0.166364       0.006542        1\n",
      "29    ITGB2  0.354012       0.001451       62\n",
      "30    APMAP  0.648611       0.003957        2\n",
      "31  HLA-DOA  0.148995       0.004155       19\n",
      "32     DIO2  0.130930       0.028077       66\n",
      "33      LPL  0.035444       0.033849       40\n",
      "34     PDK4  0.316584       0.006958       35\n",
      "35    KLHL6  0.071280       0.019601       37\n",
      "36     TFRC  0.070403       0.002829        1\n",
      "37     SDC2  0.029425       0.033025       63\n",
      "38   RNF146  0.065519       0.002756       34\n",
      "39     PID1  0.132081       0.017238       65\n",
      "40   PFKFB2  0.062837       0.005592       12\n",
      "41    IL2RB  0.013265       0.013737       10\n",
      "42    FCHO2  0.082677       0.005451       25\n",
      "43   NUCKS1  0.289739       0.001982       39\n",
      "44      HBB  0.167471       0.011629       30\n",
      "45    CEBPA  0.110449       0.010428        1\n"
     ]
    }
   ],
   "source": [
    "# Create a new DataFrame with the selected features with scores from all three methods\n",
    "# Create a list to store rows\n",
    "rows = []\n",
    "for feature in intersection_features:\n",
    "    lasso_score = lasso_feature_importance[lasso_feature_importance['Feature'] == feature]['Importance'].values[0]\n",
    "    rf_score = rf_feature_importance[rf_feature_importance['Feature'] == feature]['Importance'].values[0]\n",
    "    svmrfe_score = svmrfe_feature_importance[svmrfe_feature_importance['Feature'] == feature]['Importance'].values[0]\n",
    "    rows.append({\n",
    "        'Feature': feature,\n",
    "        'Lasso': lasso_score,\n",
    "        'Random Forest': rf_score,\n",
    "        'SVM-RFE': svmrfe_score\n",
    "    })\n",
    "\n",
    "selected_features = pd.DataFrame(rows)\n",
    "# Print the selected features with scores\n",
    "print(\"Selected Biomarkers with Scores:\")\n",
    "print(selected_features)\n",
    "# Save to CSV\n",
    "selected_features.to_csv('results/pe_sle_hpt_hpth_large_multimode_selected_features.csv', index=False)"
   ]
  },
  {
   "cell_type": "markdown",
   "metadata": {},
   "source": [
    "### **12. Verify Common Biomarkers with T-test**\n",
    "\n",
    "A t-test is performed to verify the statistical significance of the common biomarkers by comparing their expression levels between healthy (label 0) and T2D (label 1) groups."
   ]
  },
  {
   "cell_type": "code",
   "execution_count": 40,
   "metadata": {},
   "outputs": [
    {
     "name": "stdout",
     "output_type": "stream",
     "text": [
      "T-test Results:\n",
      "    Feature  t-statistic       p-value\n",
      "0     BACE2    -8.076135  5.206802e-13\n",
      "1     FCHO2    -7.832893  1.904582e-12\n",
      "2    RNF146    -7.473358  1.265963e-11\n",
      "3      CTSB    -6.720348  6.015954e-10\n",
      "4    AKAP12    -6.237666  6.522740e-09\n",
      "5      ASPH    -6.212381  7.373484e-09\n",
      "6      SDC2    -5.219392  7.393959e-07\n",
      "7    SLAMF8    -4.772399  5.065557e-06\n",
      "8     FGFR1    -4.720932  6.279625e-06\n",
      "9      PID1    -4.214822  4.796673e-05\n",
      "10     CBX1    -4.001210  1.080967e-04\n",
      "11    SSBP3    -3.894527  1.604757e-04\n",
      "12  PLEKHA3    -3.774588  2.480532e-04\n",
      "13    IL2RB    -3.760795  2.606369e-04\n",
      "14  OSBPL1A    -3.586885  4.811943e-04\n",
      "15   SEL1L3    -3.538766  5.681301e-04\n",
      "16    GNG10    -3.363259  1.027330e-03\n",
      "17      QKI    -3.333262  1.134374e-03\n",
      "18    LATS2    -2.520173  1.301026e-02\n",
      "19   CAPZA1    -2.354491  2.013193e-02\n",
      "20     DIO2    -2.272992  2.476177e-02\n",
      "21   NUCKS1    -2.232103  2.741837e-02\n",
      "22     HES1    -2.007132  4.692784e-02\n",
      "23    ITGB2     1.930439  5.585413e-02\n",
      "24      LPL     1.900094  5.976177e-02\n",
      "25   CLEC7A     1.808719  7.293742e-02\n",
      "26    KLHL6     1.702938  9.110527e-02\n",
      "27     PDK4     1.689686  9.362115e-02\n",
      "28    SGMS2    -1.686416  9.425050e-02\n",
      "29    APMAP    -1.680558  9.538675e-02\n",
      "30     YBX3    -1.654089  1.006593e-01\n",
      "31      HBB     1.597185  1.127904e-01\n",
      "32    CEBPA    -1.472730  1.433782e-01\n",
      "33   KCNIP2     1.405213  1.624785e-01\n",
      "34     PPT1    -1.378172  1.706520e-01\n",
      "35      NPL     1.282762  2.019873e-01\n",
      "36   MOSPD2     1.243657  2.159910e-01\n",
      "37      LYZ     1.219503  2.249868e-01\n",
      "38   PFKFB2    -0.977194  3.303911e-01\n",
      "39    IFIT3     0.937800  3.501849e-01\n",
      "40  HLA-DOA     0.894129  3.729989e-01\n",
      "41     TPM1     0.798601  4.260611e-01\n",
      "42     TFRC     0.681182  4.970369e-01\n",
      "43    ALPK1    -0.672865  5.022957e-01\n",
      "44      SLA     0.311981  7.555830e-01\n",
      "45    PLIN1    -0.056541  9.550025e-01\n"
     ]
    },
    {
     "name": "stderr",
     "output_type": "stream",
     "text": [
      "/tmp/ipykernel_26239/540075676.py:12: SettingWithCopyWarning: \n",
      "A value is trying to be set on a copy of a slice from a DataFrame.\n",
      "Try using .loc[row_indexer,col_indexer] = value instead\n",
      "\n",
      "See the caveats in the documentation: https://pandas.pydata.org/pandas-docs/stable/user_guide/indexing.html#returning-a-view-versus-a-copy\n",
      "  common_biomarkers_df['label'] = y\n"
     ]
    }
   ],
   "source": [
    "# Verify the common biomarkers with t-test\n",
    "# Load the dataset again\n",
    "data = pd.read_csv('clean_data/merged_pe_sle_hpt_hpth_large_data.csv')\n",
    "# Select features and target variable (X, y)\n",
    "X = data.drop(columns=['label'])\n",
    "y = data['label']\n",
    "# Select the common biomarkers\n",
    "common_biomarkers = list(intersection_features)\n",
    "# Create a new DataFrame with the common biomarkers\n",
    "common_biomarkers_df = data[common_biomarkers]\n",
    "# Add the target variable\n",
    "common_biomarkers_df['label'] = y\n",
    "# Perform t-test for each common biomarker\n",
    "t_test_results = []\n",
    "for feature in common_biomarkers:\n",
    "    group1 = common_biomarkers_df[common_biomarkers_df['label'] == 0][feature]\n",
    "    group2 = common_biomarkers_df[common_biomarkers_df['label'] == 1][feature]\n",
    "    t_stat, p_value = ttest_ind(group1, group2)\n",
    "    t_test_results.append({\n",
    "        'Feature': feature,\n",
    "        't-statistic': t_stat,\n",
    "        'p-value': p_value\n",
    "    })\n",
    "# Create a DataFrame for t-test results\n",
    "t_test_results_df = pd.DataFrame(t_test_results)\n",
    "# Print the t-test results\n",
    "print(\"T-test Results:\")\n",
    "print(t_test_results_df.sort_values(by='p-value', ascending=True).reset_index(drop=True))\n",
    "# Save t-test results to CSV\n",
    "t_test_results_df.to_csv('results/pe_sle_hpt_hpth_large_multimode_t_test_results.csv', index=False)\n"
   ]
  },
  {
   "cell_type": "code",
   "execution_count": 41,
   "metadata": {},
   "outputs": [
    {
     "name": "stdout",
     "output_type": "stream",
     "text": [
      "Significant Genes:\n",
      "    Feature  t-statistic       p-value\n",
      "0     BACE2    -8.076135  5.206802e-13\n",
      "1     FCHO2    -7.832893  1.904582e-12\n",
      "2    RNF146    -7.473358  1.265963e-11\n",
      "3      CTSB    -6.720348  6.015954e-10\n",
      "4    AKAP12    -6.237666  6.522740e-09\n",
      "5      ASPH    -6.212381  7.373484e-09\n",
      "6      SDC2    -5.219392  7.393959e-07\n",
      "7    SLAMF8    -4.772399  5.065557e-06\n",
      "8     FGFR1    -4.720932  6.279625e-06\n",
      "9      PID1    -4.214822  4.796673e-05\n",
      "10     CBX1    -4.001210  1.080967e-04\n",
      "11    SSBP3    -3.894527  1.604757e-04\n",
      "12  PLEKHA3    -3.774588  2.480532e-04\n",
      "13    IL2RB    -3.760795  2.606369e-04\n",
      "14  OSBPL1A    -3.586885  4.811943e-04\n",
      "15   SEL1L3    -3.538766  5.681301e-04\n",
      "16    GNG10    -3.363259  1.027330e-03\n",
      "17      QKI    -3.333262  1.134374e-03\n",
      "18    LATS2    -2.520173  1.301026e-02\n",
      "19   CAPZA1    -2.354491  2.013193e-02\n",
      "20     DIO2    -2.272992  2.476177e-02\n",
      "21   NUCKS1    -2.232103  2.741837e-02\n",
      "22     HES1    -2.007132  4.692784e-02\n"
     ]
    }
   ],
   "source": [
    "# print the genes with p-value < 0.05\n",
    "significant_genes = t_test_results_df[t_test_results_df['p-value'] < 0.05].sort_values(by='p-value', ascending=True).reset_index(drop=True)\n",
    "print(\"Significant Genes:\")\n",
    "print(significant_genes)\n",
    "# Save significant genes to CSV\n",
    "significant_genes.to_csv('results/pe_sle_hpt_hpth_large_multimode_significant_genes.csv', index=False)"
   ]
  },
  {
   "cell_type": "code",
   "execution_count": 42,
   "metadata": {},
   "outputs": [
    {
     "data": {
      "text/html": [
       "<div>\n",
       "<style scoped>\n",
       "    .dataframe tbody tr th:only-of-type {\n",
       "        vertical-align: middle;\n",
       "    }\n",
       "\n",
       "    .dataframe tbody tr th {\n",
       "        vertical-align: top;\n",
       "    }\n",
       "\n",
       "    .dataframe thead th {\n",
       "        text-align: right;\n",
       "    }\n",
       "</style>\n",
       "<table border=\"1\" class=\"dataframe\">\n",
       "  <thead>\n",
       "    <tr style=\"text-align: right;\">\n",
       "      <th></th>\n",
       "      <th>Gene</th>\n",
       "    </tr>\n",
       "  </thead>\n",
       "  <tbody>\n",
       "    <tr>\n",
       "      <th>0</th>\n",
       "      <td>AKT1</td>\n",
       "    </tr>\n",
       "    <tr>\n",
       "      <th>1</th>\n",
       "      <td>ACTZ</td>\n",
       "    </tr>\n",
       "    <tr>\n",
       "      <th>2</th>\n",
       "      <td>CD44</td>\n",
       "    </tr>\n",
       "    <tr>\n",
       "      <th>3</th>\n",
       "      <td>TFRC</td>\n",
       "    </tr>\n",
       "    <tr>\n",
       "      <th>4</th>\n",
       "      <td>PTPRC</td>\n",
       "    </tr>\n",
       "    <tr>\n",
       "      <th>5</th>\n",
       "      <td>TNF</td>\n",
       "    </tr>\n",
       "  </tbody>\n",
       "</table>\n",
       "</div>"
      ],
      "text/plain": [
       "    Gene\n",
       "0   AKT1\n",
       "1   ACTZ\n",
       "2  CD44 \n",
       "3   TFRC\n",
       "4  PTPRC\n",
       "5   TNF "
      ]
     },
     "execution_count": 42,
     "metadata": {},
     "output_type": "execute_result"
    }
   ],
   "source": [
    "common_genes_biological_process = pd.read_excel('clean_data/common_gene_pe_sle_hpt_hpth.xlsx')\n",
    "common_genes_biological_process"
   ]
  },
  {
   "cell_type": "code",
   "execution_count": 43,
   "metadata": {},
   "outputs": [
    {
     "name": "stdout",
     "output_type": "stream",
     "text": [
      "Intersection of selected features and common genes:\n",
      "{'TFRC'}\n"
     ]
    }
   ],
   "source": [
    "# Intersection of selected features and common genes\n",
    "intersection = set(selected_features['Feature']).intersection(set(common_genes_biological_process['Gene']))\n",
    "print(\"Intersection of selected features and common genes:\")\n",
    "print(intersection)"
   ]
  },
  {
   "cell_type": "code",
   "execution_count": null,
   "metadata": {},
   "outputs": [],
   "source": []
  }
 ],
 "metadata": {
  "kernelspec": {
   "display_name": "dsenv",
   "language": "python",
   "name": "python3"
  },
  "language_info": {
   "codemirror_mode": {
    "name": "ipython",
    "version": 3
   },
   "file_extension": ".py",
   "mimetype": "text/x-python",
   "name": "python",
   "nbconvert_exporter": "python",
   "pygments_lexer": "ipython3",
   "version": "3.12.3"
  }
 },
 "nbformat": 4,
 "nbformat_minor": 4
}
